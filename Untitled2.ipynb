{
 "cells": [
  {
   "cell_type": "code",
   "execution_count": 1,
   "id": "0d266626-47e0-47de-a56a-a87015a317bc",
   "metadata": {},
   "outputs": [],
   "source": [
    "from langchain_groq import ChatGroq"
   ]
  },
  {
   "cell_type": "code",
   "execution_count": 2,
   "id": "084631e5-b3f0-4609-85eb-d7a1def65309",
   "metadata": {},
   "outputs": [
    {
     "name": "stdout",
     "output_type": "stream",
     "text": [
      "The first person to land on the moon was Neil Armstrong. He stepped onto the lunar surface on July 20, 1969, as part of the Apollo 11 mission.\n"
     ]
    }
   ],
   "source": [
    "llm = ChatGroq(\n",
    "    temperature=0, \n",
    "    groq_api_key='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', \n",
    "    model_name=\"llama-3.1-70b-versatile\"\n",
    ")\n",
    "response = llm.invoke(\"The first person to land on moon was ...\")\n",
    "print(response.content)"
   ]
  },
  {
   "cell_type": "code",
   "execution_count": 3,
   "id": "aa0dab2c-4eee-4baa-b326-0155a4217a71",
   "metadata": {},
   "outputs": [
    {
     "name": "stderr",
     "output_type": "stream",
     "text": [
      "USER_AGENT environment variable not set, consider setting it to identify your requests.\n"
     ]
    },
    {
     "name": "stdout",
     "output_type": "stream",
     "text": [
      "Apply for SENIOR PROFESSIONAL VISUAL MERCHANDISING & STYLING EMEA\n",
      "\n",
      "Search JobsSkip navigationSearch JobsNIKE, INC. JOBSContract JobsJoin The Talent CommunityLife @ NikeOverviewBenefitsBrandsOverviewJordanConverseTeamsOverviewAdministrative SupportAdvanced InnovationAir Manufacturing InnovationAviationCommunicationsCustomer ServiceDesignDigitalFacilitiesFinance & AccountingGovernment & Public AffairsHuman ResourcesInsights & AnalyticsLegalManufacturing & EngineeringMarketingMerchandisingPlanningPrivacyProcurementProduct Creation, Development & ManagementRetail CorporateRetail StoresSalesSocial & Community ImpactSports MarketingStrategic PlanningSupply Chain, Distribution & LogisticsSustainabilityTechnologyLocationsOverviewNike WHQNike New York HQEHQ: Hilversum, The NetherlandsELC: Laakdal, BelgiumGreater China HQDiversity, Equity & InclusionOverviewMilitary InclusionDisability InclusionIndigenous InclusionInternshipsMarketingSENIOR PROFESSIONAL VISUAL MERCHANDISING & STYLING EMEAHilversum, North HollandBecome a Part of the NIKE, Inc. TeamNIKE, Inc. does more than outfit the world’s best athletes. It is a place to explore potential, obliterate boundaries and push out the edges of what can be. The company looks for people who can grow, think, dream and create. Its culture thrives by embracing diversity and rewarding imagination. The brand seeks achievers, leaders and visionaries. At NIKE, Inc. it’s about each person bringing skills and passion to a challenging and constantly evolving game.NIKE, Inc.'s storytellers, Marketing and Communication sets the brand tone. A creative force of specialists tell Nike’s stories of innovation and sport through advertising, brand strategy, digital engagement and product presentation. Using channels ranging from retail stores to social media, Marketing & Communication teams connect the science and art of Nike innovations to the hearts and minds of athletes around the world.NIKE, Inc.'s storytellers, Visual Merchandising & Styling sets the brand tone through the product expression in retail destinations.A creative and strategic force of specialists tell Nike's stories of innovation and sport through strong VM & Styling tools, brand strategy and product presentation. Using retail channels to connect the science and art of Nike innovations to the hearts and minds of athletes around the world.WHO WE ARE LOOKING FORWe are seeking for a Senior Professional who is supporting our team to shape the future of our stores.You are attuned to the needs of the consumer in a modern sense, eager to push new ways of thinking and mapping their journeys with our most innovative product and store concepts. Your focus is to think how we connect consumer journeys, and then weave in the physical MV&S experiences in the most innovative and inspirational ways. Your role as Visual Merchanding and Styling Sr. Professional, you get the consumer inspired through product presentation and support the VM&S Journey & experience in our stores.WHAT YOU WILL WORK ONDrive the Visual Merchandising and Styling journey through seasonal and non-seasonal VMS tools, training, presentations and solutions that enable marketplace excellence in our Nike stores.Collaborate with cross functional partners across Global, Geo and Field VM&S, Retail Marketing, Merchandising, Space Planning teams to ensure the best collaboration for executional excellence.Tailor and adapt Global strategies and directives to our EMEA markets.Drive Seasonal and non seasonal VM&S Directives. Work closely with our agencies to create the most innovated, inspiring and consistent directives.Drive new store openings: Concept and Category Zoning, Fixture layouts, Signage and Mannequins strategy.Support VM&S Manager with (budget) planning, forecast and project tracking, the cadence of relevant meetings with relevant internal/ external teams.WHO YOU WILL WORK WITHThis role reports directly into the EMEA VM&S Manager and will work within a vast cross functional team (Retail Experience, Merchandising, Brand Stores Marketing, Brand Creative, Space Planning, VM&S Field and external agencies).WHAT YOU WILL BRINGWork independent and support the team, pro active.Several years of experience in leading practical and/or executional in Visual Merchandising/ Retail/ Brand or similar roles.Work individually, pro active and do not hesitate to reach out when needed.You are a clear communicator, remaining sharp and focused and find it easy to work cross functional.Ability to work in a fast-pace environment and meet strict deadlines.You demonstrate brand passion and are an inspiring contributor to the team.Proven experience building strong working relationships, internally and externally, working successfully in cross-functional teams.Experience in MS Office programs: Word, Excel, and KeynoteFluent English skills is a must.This role will be posted until the 20th of September. After that, we will share feedback to all applications and move forward with the shortlisted ones.This role is not available for relocation.NIKE, Inc. is a growth company that looks for team members to grow with it. Nike offers a generous total rewards package, casual work environment, a diverse and inclusive culture, and an electric atmosphere for professional development. No matter the location, or the role, every Nike employee shares one galvanizing mission: To bring inspiration and innovation to every athlete* in the world.NIKE, Inc. is committed to employing a diverse workforce. Qualified applicants will receive consideration without regard to race, color, religion, sex, national origin, age, sexual orientation, gender identity, gender expression, veteran status, or disability.How We HireAt NIKE, Inc. we promise to provide a premium, inclusive, compelling and authentic candidate experience. Delivering on this promise means we allow you to be at your best — and to do that, you need to understand how the hiring process works. Transparency is key.\n",
      "\n",
      "* This overview explains our hiring process for corporate roles. Note there may be different hiring steps involved for non-corporate roles.Start nowBenefitsWhether it’s transportation or financial health, we continually invest in our employees to help them achieve greatness — inside and outside of work. All who work here should be able to realize their full potential.Employee Assistance ProgramEmployee Stock Purchase Plan (ESPP)HolidaysMedical PlanPaid Time Off (PTO)Product DiscountsSabbaticalsLearn moreFIND A STOREBECOME A MEMBERSIGN UP FOR EMAILSEND US FEEDBACKSTUDENT DISCOUNTSGET HELPGET HELPOrder StatusDeliveryReturnsPayment OptionsContact Us On Nike.com InquiriesContact Us On All Other InquiriesABOUT NIKEABOUT NIKENewsCareersInvestorsSustainabilityIndia© 2024 Nike, Inc. All Rights ReservedGuidesNike AdaptNike Air MaxNike FlyleatherNike PegasusNike Zoom FlyNike AirNike FlyEaseNike FreeNike ReactNike ZoomXNike Air Force 1Nike FlyknitNike JoyrideNike VaporflyTerms of SaleTerms of UseNike Privacy Policy\n"
     ]
    }
   ],
   "source": [
    "from langchain_community.document_loaders import WebBaseLoader\n",
    "\n",
    "loader = WebBaseLoader(\"https://jobs.nike.com/job/R-38732\")\n",
    "page_data = loader.load().pop().page_content\n",
    "print(page_data)"
   ]
  },
  {
   "cell_type": "code",
   "execution_count": 4,
   "id": "93d2e883-6cb9-483b-9a10-1ca299df7173",
   "metadata": {},
   "outputs": [
    {
     "data": {
      "text/plain": [
       "str"
      ]
     },
     "execution_count": 4,
     "metadata": {},
     "output_type": "execute_result"
    }
   ],
   "source": [
    "from langchain_core.prompts import PromptTemplate\n",
    "\n",
    "prompt_extract = PromptTemplate.from_template(\n",
    "        \"\"\"\n",
    "        ### SCRAPED TEXT FROM WEBSITE:\n",
    "        {page_data}\n",
    "        ### INSTRUCTION:\n",
    "        The scraped text is from the career's page of a website.\n",
    "        Your job is to extract the job postings and return them in JSON format containing the \n",
    "        following keys: `role`, `experience`, `skills` and `description`.\n",
    "        Only return the valid JSON.\n",
    "        ### VALID JSON (NO PREAMBLE):    \n",
    "        \"\"\"\n",
    ")\n",
    "\n",
    "chain_extract = prompt_extract | llm \n",
    "res = chain_extract.invoke(input={'page_data':page_data})\n",
    "type(res.content)#use print for printing here"
   ]
  },
  {
   "cell_type": "code",
   "execution_count": 5,
   "id": "a9202f50-3f50-4121-bebc-d20ca5b47553",
   "metadata": {},
   "outputs": [
    {
     "data": {
      "text/plain": [
       "{'role': 'SENIOR PROFESSIONAL VISUAL MERCHANDISING & STYLING EMEA',\n",
       " 'experience': 'Several years of experience in leading practical and/or executional in Visual Merchandising/ Retail/ Brand or similar roles',\n",
       " 'skills': ['Work independent and support the team, pro active',\n",
       "  'Clear communicator, remaining sharp and focused and find it easy to work cross functional',\n",
       "  'Ability to work in a fast-pace environment and meet strict deadlines',\n",
       "  'Proven experience building strong working relationships, internally and externally, working successfully in cross-functional teams',\n",
       "  'Experience in MS Office programs: Word, Excel, and Keynote',\n",
       "  'Fluent English skills is a must'],\n",
       " 'description': 'Drive the Visual Merchandising and Styling journey through seasonal and non-seasonal VMS tools, training, presentations and solutions that enable marketplace excellence in our Nike stores. Collaborate with cross functional partners across Global, Geo and Field VM&S, Retail Marketing, Merchandising, Space Planning teams to ensure the best collaboration for executional excellence. Tailor and adapt Global strategies and directives to our EMEA markets. Drive Seasonal and non seasonal VM&S Directives. Work closely with our agencies to create the most innovated, inspiring and consistent directives. Drive new store openings: Concept and Category Zoning, Fixture layouts, Signage and Mannequins strategy. Support VM&S Manager with (budget) planning, forecast and project tracking, the cadence of relevant meetings with relevant internal/ external teams.'}"
      ]
     },
     "execution_count": 5,
     "metadata": {},
     "output_type": "execute_result"
    }
   ],
   "source": [
    "from langchain_core.output_parsers import JsonOutputParser\n",
    "\n",
    "json_parser = JsonOutputParser()\n",
    "json_res = json_parser.parse(res.content)\n",
    "json_res"
   ]
  },
  {
   "cell_type": "code",
   "execution_count": 6,
   "id": "579f6d15-e82c-44af-9ad1-e8d58bd427bd",
   "metadata": {},
   "outputs": [
    {
     "data": {
      "text/plain": [
       "dict"
      ]
     },
     "execution_count": 6,
     "metadata": {},
     "output_type": "execute_result"
    }
   ],
   "source": [
    "type(json_res)"
   ]
  },
  {
   "cell_type": "code",
   "execution_count": 7,
   "id": "bd1cc850-4d04-43c5-97f7-86bc06509790",
   "metadata": {},
   "outputs": [
    {
     "data": {
      "text/html": [
       "<div>\n",
       "<style scoped>\n",
       "    .dataframe tbody tr th:only-of-type {\n",
       "        vertical-align: middle;\n",
       "    }\n",
       "\n",
       "    .dataframe tbody tr th {\n",
       "        vertical-align: top;\n",
       "    }\n",
       "\n",
       "    .dataframe thead th {\n",
       "        text-align: right;\n",
       "    }\n",
       "</style>\n",
       "<table border=\"1\" class=\"dataframe\">\n",
       "  <thead>\n",
       "    <tr style=\"text-align: right;\">\n",
       "      <th></th>\n",
       "      <th>Techstack</th>\n",
       "      <th>Links</th>\n",
       "    </tr>\n",
       "  </thead>\n",
       "  <tbody>\n",
       "    <tr>\n",
       "      <th>0</th>\n",
       "      <td>React, Node.js, MongoDB</td>\n",
       "      <td>https://example.com/react-portfolio</td>\n",
       "    </tr>\n",
       "    <tr>\n",
       "      <th>1</th>\n",
       "      <td>Angular,.NET, SQL Server</td>\n",
       "      <td>https://example.com/angular-portfolio</td>\n",
       "    </tr>\n",
       "    <tr>\n",
       "      <th>2</th>\n",
       "      <td>Vue.js, Ruby on Rails, PostgreSQL</td>\n",
       "      <td>https://example.com/vue-portfolio</td>\n",
       "    </tr>\n",
       "    <tr>\n",
       "      <th>3</th>\n",
       "      <td>Python, Django, MySQL</td>\n",
       "      <td>https://example.com/python-portfolio</td>\n",
       "    </tr>\n",
       "    <tr>\n",
       "      <th>4</th>\n",
       "      <td>Java, Spring Boot, Oracle</td>\n",
       "      <td>https://example.com/java-portfolio</td>\n",
       "    </tr>\n",
       "    <tr>\n",
       "      <th>5</th>\n",
       "      <td>Flutter, Firebase, GraphQL</td>\n",
       "      <td>https://example.com/flutter-portfolio</td>\n",
       "    </tr>\n",
       "    <tr>\n",
       "      <th>6</th>\n",
       "      <td>WordPress, PHP, MySQL</td>\n",
       "      <td>https://example.com/wordpress-portfolio</td>\n",
       "    </tr>\n",
       "    <tr>\n",
       "      <th>7</th>\n",
       "      <td>Magento, PHP, MySQL</td>\n",
       "      <td>https://example.com/magento-portfolio</td>\n",
       "    </tr>\n",
       "    <tr>\n",
       "      <th>8</th>\n",
       "      <td>React Native, Node.js, MongoDB</td>\n",
       "      <td>https://example.com/react-native-portfolio</td>\n",
       "    </tr>\n",
       "    <tr>\n",
       "      <th>9</th>\n",
       "      <td>iOS, Swift, Core Data</td>\n",
       "      <td>https://example.com/ios-portfolio</td>\n",
       "    </tr>\n",
       "    <tr>\n",
       "      <th>10</th>\n",
       "      <td>Android, Java, Room Persistence</td>\n",
       "      <td>https://example.com/android-portfolio</td>\n",
       "    </tr>\n",
       "    <tr>\n",
       "      <th>11</th>\n",
       "      <td>Kotlin, Android, Firebase</td>\n",
       "      <td>https://example.com/kotlin-android-portfolio</td>\n",
       "    </tr>\n",
       "    <tr>\n",
       "      <th>12</th>\n",
       "      <td>Android TV, Kotlin, Android NDK</td>\n",
       "      <td>https://example.com/android-tv-portfolio</td>\n",
       "    </tr>\n",
       "    <tr>\n",
       "      <th>13</th>\n",
       "      <td>iOS, Swift, ARKit</td>\n",
       "      <td>https://example.com/ios-ar-portfolio</td>\n",
       "    </tr>\n",
       "    <tr>\n",
       "      <th>14</th>\n",
       "      <td>Cross-platform, Xamarin, Azure</td>\n",
       "      <td>https://example.com/xamarin-portfolio</td>\n",
       "    </tr>\n",
       "    <tr>\n",
       "      <th>15</th>\n",
       "      <td>Backend, Kotlin, Spring Boot</td>\n",
       "      <td>https://example.com/kotlin-backend-portfolio</td>\n",
       "    </tr>\n",
       "    <tr>\n",
       "      <th>16</th>\n",
       "      <td>Frontend, TypeScript, Angular</td>\n",
       "      <td>https://example.com/typescript-frontend-portfolio</td>\n",
       "    </tr>\n",
       "    <tr>\n",
       "      <th>17</th>\n",
       "      <td>Full-stack, JavaScript, Express.js</td>\n",
       "      <td>https://example.com/full-stack-js-portfolio</td>\n",
       "    </tr>\n",
       "    <tr>\n",
       "      <th>18</th>\n",
       "      <td>Machine Learning, Python, TensorFlow</td>\n",
       "      <td>https://example.com/ml-python-portfolio</td>\n",
       "    </tr>\n",
       "    <tr>\n",
       "      <th>19</th>\n",
       "      <td>DevOps, Jenkins, Docker</td>\n",
       "      <td>https://example.com/devops-portfolio</td>\n",
       "    </tr>\n",
       "  </tbody>\n",
       "</table>\n",
       "</div>"
      ],
      "text/plain": [
       "                               Techstack  \\\n",
       "0                React, Node.js, MongoDB   \n",
       "1               Angular,.NET, SQL Server   \n",
       "2      Vue.js, Ruby on Rails, PostgreSQL   \n",
       "3                  Python, Django, MySQL   \n",
       "4              Java, Spring Boot, Oracle   \n",
       "5             Flutter, Firebase, GraphQL   \n",
       "6                  WordPress, PHP, MySQL   \n",
       "7                    Magento, PHP, MySQL   \n",
       "8         React Native, Node.js, MongoDB   \n",
       "9                  iOS, Swift, Core Data   \n",
       "10       Android, Java, Room Persistence   \n",
       "11             Kotlin, Android, Firebase   \n",
       "12       Android TV, Kotlin, Android NDK   \n",
       "13                     iOS, Swift, ARKit   \n",
       "14        Cross-platform, Xamarin, Azure   \n",
       "15          Backend, Kotlin, Spring Boot   \n",
       "16         Frontend, TypeScript, Angular   \n",
       "17    Full-stack, JavaScript, Express.js   \n",
       "18  Machine Learning, Python, TensorFlow   \n",
       "19               DevOps, Jenkins, Docker   \n",
       "\n",
       "                                                Links  \n",
       "0                 https://example.com/react-portfolio  \n",
       "1               https://example.com/angular-portfolio  \n",
       "2                   https://example.com/vue-portfolio  \n",
       "3                https://example.com/python-portfolio  \n",
       "4                  https://example.com/java-portfolio  \n",
       "5               https://example.com/flutter-portfolio  \n",
       "6             https://example.com/wordpress-portfolio  \n",
       "7               https://example.com/magento-portfolio  \n",
       "8          https://example.com/react-native-portfolio  \n",
       "9                   https://example.com/ios-portfolio  \n",
       "10              https://example.com/android-portfolio  \n",
       "11       https://example.com/kotlin-android-portfolio  \n",
       "12           https://example.com/android-tv-portfolio  \n",
       "13               https://example.com/ios-ar-portfolio  \n",
       "14              https://example.com/xamarin-portfolio  \n",
       "15       https://example.com/kotlin-backend-portfolio  \n",
       "16  https://example.com/typescript-frontend-portfolio  \n",
       "17        https://example.com/full-stack-js-portfolio  \n",
       "18            https://example.com/ml-python-portfolio  \n",
       "19               https://example.com/devops-portfolio  "
      ]
     },
     "execution_count": 7,
     "metadata": {},
     "output_type": "execute_result"
    }
   ],
   "source": [
    "import pandas as pd\n",
    "\n",
    "df = pd.read_csv(\"my_portfolio.csv\")\n",
    "df"
   ]
  },
  {
   "cell_type": "code",
   "execution_count": 8,
   "id": "782b5e71-a4ec-4aa5-be24-a1886c1c5b2b",
   "metadata": {},
   "outputs": [],
   "source": [
    "import uuid\n",
    "import chromadb\n",
    "\n",
    "client = chromadb.PersistentClient('vectorstore')\n",
    "collection = client.get_or_create_collection(name=\"portfolio\")\n",
    "\n",
    "if not collection.count():\n",
    "    for _, row in df.iterrows():\n",
    "        collection.add(documents=row[\"Techstack\"],\n",
    "                       metadatas={\"links\": row[\"Links\"]},\n",
    "                       ids=[str(uuid.uuid4())])"
   ]
  },
  {
   "cell_type": "code",
   "execution_count": 14,
   "id": "9ce037f5-0ebc-4f72-9785-cd4c019f1cab",
   "metadata": {},
   "outputs": [
    {
     "data": {
      "text/plain": [
       "[[{'links': 'https://example.com/devops-portfolio'},\n",
       "  {'links': 'https://example.com/java-portfolio'}],\n",
       " [{'links': 'https://example.com/full-stack-js-portfolio'},\n",
       "  {'links': 'https://example.com/typescript-frontend-portfolio'}],\n",
       " [{'links': 'https://example.com/devops-portfolio'},\n",
       "  {'links': 'https://example.com/python-portfolio'}],\n",
       " [{'links': 'https://example.com/flutter-portfolio'},\n",
       "  {'links': 'https://example.com/devops-portfolio'}],\n",
       " [{'links': 'https://example.com/wordpress-portfolio'},\n",
       "  {'links': 'https://example.com/vue-portfolio'}],\n",
       " [{'links': 'https://example.com/ml-python-portfolio'},\n",
       "  {'links': 'https://example.com/ios-portfolio'}]]"
      ]
     },
     "execution_count": 14,
     "metadata": {},
     "output_type": "execute_result"
    }
   ],
   "source": [
    "links = collection.query(query_texts=job['skills'], n_results=2).get('metadatas', [])\n",
    "links"
   ]
  },
  {
   "cell_type": "code",
   "execution_count": 12,
   "id": "2fc6d376-ebf1-4db2-80f3-b8f8d33d6ea7",
   "metadata": {},
   "outputs": [
    {
     "data": {
      "text/plain": [
       "['Work independent and support the team, pro active',\n",
       " 'Clear communicator, remaining sharp and focused and find it easy to work cross functional',\n",
       " 'Ability to work in a fast-pace environment and meet strict deadlines',\n",
       " 'Proven experience building strong working relationships, internally and externally, working successfully in cross-functional teams',\n",
       " 'Experience in MS Office programs: Word, Excel, and Keynote',\n",
       " 'Fluent English skills is a must']"
      ]
     },
     "execution_count": 12,
     "metadata": {},
     "output_type": "execute_result"
    }
   ],
   "source": [
    "job = json_res\n",
    "job['skills']"
   ]
  },
  {
   "cell_type": "code",
   "execution_count": 15,
   "id": "e6927e3c-0db7-49e7-a88a-98a10e528fe5",
   "metadata": {},
   "outputs": [
    {
     "data": {
      "text/plain": [
       "{'role': 'SENIOR PROFESSIONAL VISUAL MERCHANDISING & STYLING EMEA',\n",
       " 'experience': 'Several years of experience in leading practical and/or executional in Visual Merchandising/ Retail/ Brand or similar roles',\n",
       " 'skills': ['Work independent and support the team, pro active',\n",
       "  'Clear communicator, remaining sharp and focused and find it easy to work cross functional',\n",
       "  'Ability to work in a fast-pace environment and meet strict deadlines',\n",
       "  'Proven experience building strong working relationships, internally and externally, working successfully in cross-functional teams',\n",
       "  'Experience in MS Office programs: Word, Excel, and Keynote',\n",
       "  'Fluent English skills is a must'],\n",
       " 'description': 'Drive the Visual Merchandising and Styling journey through seasonal and non-seasonal VMS tools, training, presentations and solutions that enable marketplace excellence in our Nike stores. Collaborate with cross functional partners across Global, Geo and Field VM&S, Retail Marketing, Merchandising, Space Planning teams to ensure the best collaboration for executional excellence. Tailor and adapt Global strategies and directives to our EMEA markets. Drive Seasonal and non seasonal VM&S Directives. Work closely with our agencies to create the most innovated, inspiring and consistent directives. Drive new store openings: Concept and Category Zoning, Fixture layouts, Signage and Mannequins strategy. Support VM&S Manager with (budget) planning, forecast and project tracking, the cadence of relevant meetings with relevant internal/ external teams.'}"
      ]
     },
     "execution_count": 15,
     "metadata": {},
     "output_type": "execute_result"
    }
   ],
   "source": [
    "job"
   ]
  },
  {
   "cell_type": "code",
   "execution_count": 17,
   "id": "498305c9-0b17-4343-81b6-c471d135d564",
   "metadata": {},
   "outputs": [
    {
     "name": "stdout",
     "output_type": "stream",
     "text": [
      "Subject: Unlocking Visual Merchandising Excellence with AtliQ\n",
      "\n",
      "Dear Hiring Manager,\n",
      "\n",
      "I came across the job description for Senior Professional Visual Merchandising & Styling EMEA at Nike, and I was impressed by the role's focus on driving marketplace excellence through seasonal and non-seasonal VMS tools, training, and solutions. As a Business Development Executive at Housing_board, I believe our expertise in AI and software consulting can help you streamline your visual merchandising processes and achieve executional excellence.\n",
      "\n",
      "At Housing_board, we have a proven track record of empowering enterprises with tailored solutions that foster scalability, process optimization, cost reduction, and heightened overall efficiency. Our team has extensive experience in developing innovative solutions that can help you drive seasonal and non-seasonal VM&S directives, collaborate with cross-functional partners, and tailor global strategies to your EMEA markets.\n",
      "\n",
      "Our portfolio showcases our capabilities in developing cutting-edge solutions for various industries. Some relevant examples include:\n",
      "\n",
      "* Our DevOps portfolio (https://example.com/devops-portfolio), which demonstrates our expertise in streamlining processes and improving efficiency.\n",
      "* Our Java portfolio (https://example.com/java-portfolio), which highlights our ability to develop scalable and robust solutions.\n",
      "* Our Full Stack JS portfolio (https://example.com/full-stack-js-portfolio), which showcases our proficiency in developing end-to-end solutions.\n",
      "\n",
      "AtliQ, our flagship product, is designed to help businesses like yours optimize their processes and improve efficiency. With AtliQ, you can:\n",
      "\n",
      "* Automate manual tasks and workflows\n",
      "* Enhance collaboration and communication across teams\n",
      "* Gain real-time insights and analytics to inform decision-making\n",
      "* Scale your business with ease and flexibility\n",
      "\n",
      "I would love to schedule a call to discuss how AtliQ can help you achieve your visual merchandising goals and drive excellence in your Nike stores. Please let me know if you're available for a call this week or next.\n",
      "\n",
      "Best regards,\n",
      "\n",
      "Mohan\n",
      "Business Development Executive\n",
      "Housing_board\n"
     ]
    }
   ],
   "source": [
    "prompt_email = PromptTemplate.from_template(\n",
    "        \"\"\"\n",
    "        ### JOB DESCRIPTION:\n",
    "        {job_description}\n",
    "        \n",
    "        ### INSTRUCTION:\n",
    "        You are Mohan, a business development executive at Housing_board. Housing_board is an AI & Software Consulting company dedicated to facilitating\n",
    "        the seamless integration of business processes through automated tools. \n",
    "        Over our experience, we have empowered numerous enterprises with tailored solutions, fostering scalability, \n",
    "        process optimization, cost reduction, and heightened overall efficiency. \n",
    "        Your job is to write a cold email to the client regarding the job mentioned above describing the capability of AtliQ \n",
    "        in fulfilling their needs.\n",
    "        Also add the most relevant ones from the following links to showcase Housing_board's portfolio: {link_list}\n",
    "        Remember you are Mohan, BDE at Housing_board. \n",
    "        Do not provide a preamble.\n",
    "        ### EMAIL (NO PREAMBLE):\n",
    "        \n",
    "        \"\"\"\n",
    "        )\n",
    "\n",
    "chain_email = prompt_email | llm\n",
    "res = chain_email.invoke({\"job_description\": str(job), \"link_list\": links})\n",
    "print(res.content)"
   ]
  },
  {
   "cell_type": "code",
   "execution_count": null,
   "id": "69bfd456-b726-4b7a-ac70-353e970b172c",
   "metadata": {},
   "outputs": [],
   "source": []
  }
 ],
 "metadata": {
  "kernelspec": {
   "display_name": "Python 3 (ipykernel)",
   "language": "python",
   "name": "python3"
  },
  "language_info": {
   "codemirror_mode": {
    "name": "ipython",
    "version": 3
   },
   "file_extension": ".py",
   "mimetype": "text/x-python",
   "name": "python",
   "nbconvert_exporter": "python",
   "pygments_lexer": "ipython3",
   "version": "3.11.4"
  }
 },
 "nbformat": 4,
 "nbformat_minor": 5
}
